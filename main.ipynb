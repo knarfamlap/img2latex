{
 "cells": [
  {
   "cell_type": "code",
   "execution_count": 3,
   "metadata": {},
   "outputs": [],
   "source": [
    "import tensorflow as tf\n",
    "import numpy as np\n",
    "import pandas as pd\n",
    "from components.positional import add_timing_signal_nd"
   ]
  },
  {
   "cell_type": "code",
   "execution_count": 29,
   "metadata": {},
   "outputs": [],
   "source": [
    "class Encoder(object):\n",
    "    def __call__(self):\n",
    "        \n",
    "        model = tf.keras.models.Sequential()\n",
    "\n",
    "        model.add(tf.keras.layers.Conv2D(64, 3, padding='same', activation='relu'))\n",
    "        model.add(tf.keras.layers.MaxPool2D(padding='same'))\n",
    "\n",
    "        model.add(tf.keras.layers.Conv2D(128, 3, padding='same', activation='relu'))\n",
    "        model.add(tf.keras.layers.MaxPool2D(padding='same'))\n",
    "\n",
    "        model.add(tf.keras.layers.Conv2D(256, 3, padding='same', activation='relu'))\n",
    "\n",
    "        model.add(tf.keras.layers.Conv2D(256, 3, padding='same', activation='relu'))\n",
    "        model.add(tf.keras.layers.MaxPool2D(pool_size=(2, 1), strides=(2, 1), padding='same'))\n",
    "\n",
    "        model.add(tf.keras.layers.Conv2D(512, 3, padding='same', activation='relu'))\n",
    "        model.add(tf.keras.layers.MaxPool2D(pool_size=(1, 2), strides=(1, 2), padding='same')) \n",
    "\n",
    "        model.add(tf.keras.layers.Conv2D(512, 3, activation='relu'))\n",
    "\n",
    "        model.add(tf.keras.layers.Lambda(add_timing_signal_nd))\n",
    "        \n",
    "        return model\n",
    "        \n",
    "    \n",
    "        "
   ]
  },
  {
   "cell_type": "code",
   "execution_count": 30,
   "metadata": {},
   "outputs": [],
   "source": [
    "model = Encoder()"
   ]
  },
  {
   "cell_type": "code",
   "execution_count": 32,
   "metadata": {},
   "outputs": [],
   "source": [
    "seq = model()"
   ]
  },
  {
   "cell_type": "code",
   "execution_count": null,
   "metadata": {},
   "outputs": [],
   "source": [
    "seq.add"
   ]
  },
  {
   "cell_type": "code",
   "execution_count": 18,
   "metadata": {},
   "outputs": [
    {
     "data": {
      "text/plain": [
       "[<tensorflow.python.keras.layers.convolutional.Conv2D at 0x15e345cd0>,\n",
       " <tensorflow.python.keras.layers.pooling.MaxPooling2D at 0x15e39ce50>,\n",
       " <tensorflow.python.keras.layers.convolutional.Conv2D at 0x15e2acfd0>,\n",
       " <tensorflow.python.keras.layers.pooling.MaxPooling2D at 0x15e399510>,\n",
       " <tensorflow.python.keras.layers.convolutional.Conv2D at 0x15dcf4f10>,\n",
       " <tensorflow.python.keras.layers.convolutional.Conv2D at 0x15dd840d0>,\n",
       " <tensorflow.python.keras.layers.pooling.MaxPooling2D at 0x15dd0f390>,\n",
       " <tensorflow.python.keras.layers.convolutional.Conv2D at 0x15dd0f090>,\n",
       " <tensorflow.python.keras.layers.pooling.MaxPooling2D at 0x15e41b4d0>,\n",
       " <tensorflow.python.keras.layers.convolutional.Conv2D at 0x15e2d6450>,\n",
       " <tensorflow.python.keras.layers.core.Lambda at 0x15dc8d1d0>]"
      ]
     },
     "execution_count": 18,
     "metadata": {},
     "output_type": "execute_result"
    }
   ],
   "source": [
    "model.layers"
   ]
  },
  {
   "cell_type": "code",
   "execution_count": 4,
   "metadata": {},
   "outputs": [],
   "source": [
    "model = tf.keras.models.Sequential()\n",
    "\n",
    "model.add(tf.keras.layers.Conv2D(64, 3, padding='same', activation='relu'))\n",
    "model.add(tf.keras.layers.MaxPool2D(padding='same'))\n",
    "\n",
    "model.add(tf.keras.layers.Conv2D(128, 3, padding='same', activation='relu'))\n",
    "model.add(tf.keras.layers.MaxPool2D(padding='same'))\n",
    "\n",
    "model.add(tf.keras.layers.Conv2D(256, 3, padding='same', activation='relu'))\n",
    "\n",
    "model.add(tf.keras.layers.Conv2D(256, 3, padding='same', activation='relu'))\n",
    "model.add(tf.keras.layers.MaxPool2D(pool_size=(2, 1), strides=(2, 1), padding='same'))\n",
    "\n",
    "model.add(tf.keras.layers.Conv2D(512, 3, padding='same', activation='relu'))\n",
    "model.add(tf.keras.layers.MaxPool2D(pool_size=(1, 2), strides=(1, 2), padding='same')) \n",
    "\n",
    "model.add(tf.keras.layers.Conv2D(512, 3, activation='relu'))\n",
    "\n",
    "model.add(tf.keras.layers.Lambda(add_timing_signal_nd))"
   ]
  },
  {
   "cell_type": "code",
   "execution_count": null,
   "metadata": {},
   "outputs": [],
   "source": []
  },
  {
   "cell_type": "code",
   "execution_count": 8,
   "metadata": {},
   "outputs": [
    {
     "data": {
      "text/plain": [
       "[<tensorflow.python.keras.layers.convolutional.Conv2D at 0x15be88e50>,\n",
       " <tensorflow.python.keras.layers.pooling.MaxPooling2D at 0x15bdc57d0>,\n",
       " <tensorflow.python.keras.layers.convolutional.Conv2D at 0x15beadad0>,\n",
       " <tensorflow.python.keras.layers.pooling.MaxPooling2D at 0x15bead750>,\n",
       " <tensorflow.python.keras.layers.convolutional.Conv2D at 0x15beade90>,\n",
       " <tensorflow.python.keras.layers.convolutional.Conv2D at 0x15bef9bd0>,\n",
       " <tensorflow.python.keras.layers.pooling.MaxPooling2D at 0x15bef9c50>,\n",
       " <tensorflow.python.keras.layers.convolutional.Conv2D at 0x15befe690>,\n",
       " <tensorflow.python.keras.layers.pooling.MaxPooling2D at 0x148ea4510>,\n",
       " <tensorflow.python.keras.layers.convolutional.Conv2D at 0x15befed50>,\n",
       " <tensorflow.python.keras.layers.core.Lambda at 0x15bef9910>]"
      ]
     },
     "execution_count": 8,
     "metadata": {},
     "output_type": "execute_result"
    }
   ],
   "source": [
    "model.layers"
   ]
  },
  {
   "cell_type": "markdown",
   "metadata": {},
   "source": [
    "## Encoder"
   ]
  },
  {
   "cell_type": "code",
   "execution_count": 9,
   "metadata": {},
   "outputs": [],
   "source": [
    "# cast image back to float32 on GPU\n",
    "img = tf.cast(img, tf.float32) / 255.\n",
    "\n",
    "out = tf.keras.layers.Conv2D(64, 3, padding=\"same\", activation='relu')(img)\n",
    "out = tf.keras.layers.MaxPool2D(padding=\"same\")(out)\n",
    "\n",
    "out = tf.keras.layers.Conv2D(128, 3, padding=\"same\", activation='relu')(out)\n",
    "out = tf.keras.layers.MaxPool2D(padding=\"same\")(out)\n",
    "\n",
    "out = tf.keras.layers.Conv2D(256, 3,padding=\"same\", activation='relu')(out)\n",
    "\n",
    "out = tf.keras.layers.Conv2D(256, 3, padding=\"same\", activation='relu')(out)\n",
    "out = tf.keras.layers.MaxPool2D(pool_size=(2, 1), strides=(2, 1), padding=\"same\")(out)\n",
    "\n",
    "out = tf.keras.layers.Conv2D(512, 3, padding=\"same\", activation='relu')(out)\n",
    "out = tf.keras.layers.MaxPool2D(pool_size=(1, 2), strides=(1, 2), padding=\"same\")(out)\n",
    "#encoder representation, (batch size, height, width, 512)\n",
    "out = tf.keras.layers.Conv2D(512, 3, activation='relu')(out)"
   ]
  },
  {
   "cell_type": "code",
   "execution_count": 22,
   "metadata": {},
   "outputs": [],
   "source": [
    "H, W = tf.shape(out)[0], tf.shape(out)[1]"
   ]
  },
  {
   "cell_type": "code",
   "execution_count": 23,
   "metadata": {},
   "outputs": [],
   "source": [
    "seq = tf.reshape(out, shape=[-1, H*W, 512])"
   ]
  },
  {
   "cell_type": "code",
   "execution_count": 25,
   "metadata": {},
   "outputs": [
    {
     "name": "stdout",
     "output_type": "stream",
     "text": [
      "WARNING:tensorflow:From /Users/frankpalma/Projects/img2latex/positional.py:49: to_float (from tensorflow.python.ops.math_ops) is deprecated and will be removed in a future version.\n",
      "Instructions for updating:\n",
      "Use `tf.cast` instead.\n"
     ]
    },
    {
     "name": "stderr",
     "output_type": "stream",
     "text": [
      "WARNING:tensorflow:From /Users/frankpalma/Projects/img2latex/positional.py:49: to_float (from tensorflow.python.ops.math_ops) is deprecated and will be removed in a future version.\n",
      "Instructions for updating:\n",
      "Use `tf.cast` instead.\n"
     ]
    }
   ],
   "source": [
    "out = add_timing_signal_nd(out)"
   ]
  },
  {
   "cell_type": "markdown",
   "metadata": {},
   "source": [
    "## Decoder"
   ]
  },
  {
   "cell_type": "code",
   "execution_count": null,
   "metadata": {},
   "outputs": [],
   "source": [
    "img_mean = tf.reduce_mean(seq, axis=1) \n",
    "W = tf.get_variable(\"W\", shape=[512, 512])\n",
    "b = tf.get_variable(\"b\", shape=[512]) \n",
    "h = tf.tanh(tf.matmul(img_mean, W) + b)"
   ]
  },
  {
   "cell_type": "code",
   "execution_count": null,
   "metadata": {},
   "outputs": [],
   "source": [
    "W1_e = tf.keras.layers.Dense(units=512, use_bias=False)(seq) "
   ]
  }
 ],
 "metadata": {
  "kernelspec": {
   "display_name": "Python 3",
   "language": "python",
   "name": "python3"
  },
  "language_info": {
   "codemirror_mode": {
    "name": "ipython",
    "version": 3
   },
   "file_extension": ".py",
   "mimetype": "text/x-python",
   "name": "python",
   "nbconvert_exporter": "python",
   "pygments_lexer": "ipython3",
   "version": "3.7.6"
  }
 },
 "nbformat": 4,
 "nbformat_minor": 4
}
