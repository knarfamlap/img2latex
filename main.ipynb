{
 "cells": [
  {
   "cell_type": "code",
   "execution_count": 1,
   "metadata": {},
   "outputs": [],
   "source": [
    "import tensorflow as tf\n",
    "import tensorflow_addons as tfa\n",
    "import numpy as np\n",
    "import pandas as pd\n",
    "from components.positional import add_timing_signal_nd"
   ]
  },
  {
   "cell_type": "code",
   "execution_count": 25,
   "metadata": {},
   "outputs": [],
   "source": [
    "def embedding_initializer(shape, dtype):\n",
    "    E = tf.random.uniform(shape, minval=-1.0, maxval=1.0, dtype=dtype)\n",
    "    E = tf.nn.l2_normalize(E, -1)\n",
    "    return E"
   ]
  },
  {
   "cell_type": "code",
   "execution_count": 22,
   "metadata": {},
   "outputs": [],
   "source": [
    "class BahdanauAttention(tf.keras.Model):\n",
    "    def __init__(self, units):\n",
    "        super(BahdanauAttention, self).__init__()\n",
    "        self.W1 = tf.keras.layers.Dense(units)\n",
    "        self.W2 = tf.keras.layers.Dense(units)\n",
    "        self.V = tf.keras.layers.Dense(1)\n",
    "\n",
    "    def call(self, features, hidden):\n",
    "        # features(CNN_encoder output) shape == (batch_size, 64, embedding_dim)\n",
    "\n",
    "        hidden_with_time_axis = tf.expand_dims(hidden, 1)\n",
    "\n",
    "        # score shape == (batch_size, 64, hidden_size)\n",
    "        score = tf.nn.tanh(self.W1(features) + self.W2(hidden_with_time_axis))\n",
    "\n",
    "        attention_weights = tf.nn.softmax(self.V(score), axis=1)\n",
    "\n",
    "        context_vector = attention_weights * features\n",
    "        context_vector = tf.reduce_sum(context_vector, axis=1)\n",
    "\n",
    "        return context_vector, attention_weights"
   ]
  },
  {
   "cell_type": "code",
   "execution_count": 32,
   "metadata": {},
   "outputs": [],
   "source": [
    "class Decoder(tf.keras.Model):\n",
    "    def __init__(self, embedding_dim, units, vocab_size, id_end):\n",
    "        super(Decoder, self). __init__()\n",
    "        self.units = units\n",
    "        # comes from Vocab\n",
    "        self._id_end = id_end\n",
    "\n",
    "        self.embedding = tf.keras.layers.Embedding(vocab_size, embedding_dim)\n",
    "        self.lstm = tf.keras.layers.LSTMCell(self.units)\n",
    "\n",
    "        self.fc1 = tf.keras.layers.Dense(self.units)\n",
    "        self.fc2 = tf.keras.layers.Dense(vocab_size)\n",
    "\n",
    "        self.attention = BahdanauAttention(self.units)\n",
    "\n",
    "        self.start_token = tf.Variable(initial_value=embedding_initializer([embedding_dim], dtype=tf.float32), \n",
    "                                       dtype=tf.float32, shape=[embedding_dim],)\n",
    "\n",
    "        self.decoder = tfa.seq2seq.BeamSearchDecoder(\n",
    "            self.lstm, beam_width=3, output_layer=self.fc1, )\n",
    "\n",
    "    def call(self, x, features, hidden):\n",
    "        # defining attention as seperate model\n",
    "        context_vector, attention_weights = self.attention(features, hidden)\n",
    "\n",
    "        # x shape after passing through embedding == (batch_size, 1, embedding_dim)\n",
    "        x = self.embedding(x)\n",
    "\n",
    "        # x shape after concatenation == (batch_size, 1, embedding_dim + hidden_size)\n",
    "        x = tf.concat([tf.expand_dims(context_vector, 1), x], axis=-1)\n",
    "\n",
    "        # passsing concatenated vector to LSTM\n",
    "        output, state = self.decoder(x, start_tokens=self.start_token)\n",
    "\n",
    "        # shape == (batch_size, max_length, hidden_size)\n",
    "        # x = self.fc1(output)\n",
    "\n",
    "        # x shape == (batch_size, max_length, hidden_size)\n",
    "        x = tf.reshape(output, (-1, x.shape[2]))\n",
    "\n",
    "        # output shape == (batch_size, * max_length, vocab)\n",
    "        x = self.fc2(x)\n",
    "\n",
    "        return x, state, attention_weights\n",
    "\n",
    "    def reset_state(self, batch_size):\n",
    "        return tf.zeros((batch_size, self.units))"
   ]
  },
  {
   "cell_type": "code",
   "execution_count": 5,
   "metadata": {},
   "outputs": [],
   "source": [
    "class CNN_Encoder(tf.keras.Model):\n",
    "    def __init__(self, embedding_dim):\n",
    "        super(CNN_Encoder, self).__init__()\n",
    "        self.encoder = tf.keras.Sequential([\n",
    "            tf.keras.layers.Conv2D(64, 3, padding='same', activation='relu'),\n",
    "            tf.keras.layers.MaxPool2D(padding='same'),\n",
    "            tf.keras.layers.Conv2D(128, 3, padding='same', activation='relu'),\n",
    "            tf.keras.layers.MaxPool2D(padding='same'),\n",
    "            tf.keras.layers.Conv2D(256, 3, padding='same', activation='relu'),\n",
    "            tf.keras.layers.Conv2D(256, 3, padding='same', activation='relu'),\n",
    "            tf.keras.layers.MaxPool2D(pool_size=(2, 1), strides=(2, 1), padding='same'),\n",
    "            tf.keras.layers.Conv2D(512, 3, padding='same', activation='relu'),\n",
    "            tf.keras.layers.MaxPool2D(pool_size=(1, 2), strides=(1, 2), padding='same'),\n",
    "            tf.keras.layers.Conv2D(512, 3, activation='relu'),\n",
    "            tf.keras.layers.Flatten(),\n",
    "            tf.keras.layers.Lambda(add_timing_signal_nd),\n",
    "            tf.keras.layers.Dense(embedding_dim),\n",
    "        ])\n",
    "    def call(self, x):\n",
    "        x = self.encoder(x)\n",
    "        x = tf.nn.relu(x)\n",
    "\n",
    "        return x"
   ]
  },
  {
   "cell_type": "code",
   "execution_count": 6,
   "metadata": {},
   "outputs": [],
   "source": [
    "from model.utils.data_generator import DataGenerator\n",
    "from model.utils.general import Config\n",
    "from model.utils.text import Vocab\n",
    "from model.utils.image import greyscale"
   ]
  },
  {
   "cell_type": "code",
   "execution_count": 7,
   "metadata": {},
   "outputs": [],
   "source": [
    "data = \"configs/data_small.json\"\n",
    "vocab = \"configs/vocab_small.json\"\n",
    "training = \"configs/training_small.json\"\n",
    "model = \"configs/model.json\"\n",
    "output = \"results/small/\""
   ]
  },
  {
   "cell_type": "code",
   "execution_count": 8,
   "metadata": {},
   "outputs": [],
   "source": [
    "config = Config([data, vocab, training, model])"
   ]
  },
  {
   "cell_type": "code",
   "execution_count": 9,
   "metadata": {},
   "outputs": [],
   "source": [
    "vocab = Vocab(config)"
   ]
  },
  {
   "cell_type": "code",
   "execution_count": 10,
   "metadata": {},
   "outputs": [
    {
     "name": "stdout",
     "output_type": "stream",
     "text": [
      "Loaded 10 formulas from data/small.formulas.norm.txt\n",
      "Bucketing the dataset...\n",
      "- done.\n"
     ]
    }
   ],
   "source": [
    "train_set = DataGenerator(path_formulas=config.path_formulas_train, dir_images=config.dir_images_train,\n",
    "                         img_prepro=greyscale, max_iter=config.max_iter, bucket=config.bucket_train,\n",
    "                         path_matching=config.path_matching_train, max_len=config.max_length_formula,\n",
    "                         form_prepro=vocab.form_prepro)"
   ]
  },
  {
   "cell_type": "code",
   "execution_count": 11,
   "metadata": {},
   "outputs": [
    {
     "name": "stdout",
     "output_type": "stream",
     "text": [
      "Loaded 10 formulas from data/small.formulas.norm.txt\n",
      "Bucketing the dataset...\n",
      "- done.\n"
     ]
    }
   ],
   "source": [
    "val_set = DataGenerator(path_formulas=config.path_formulas_val,\n",
    "                       dir_images=config.dir_images_val, img_prepro=greyscale,\n",
    "                       max_iter=config.max_iter, bucket=config.bucket_val,\n",
    "                       path_matching=config.path_matching_val, max_len=config.max_length_formula,\n",
    "                       form_prepro=vocab.form_prepro)"
   ]
  },
  {
   "cell_type": "code",
   "execution_count": 12,
   "metadata": {},
   "outputs": [
    {
     "data": {
      "text/plain": [
       "10"
      ]
     },
     "execution_count": 12,
     "metadata": {},
     "output_type": "execute_result"
    }
   ],
   "source": [
    "len(train_set)"
   ]
  },
  {
   "cell_type": "code",
   "execution_count": 13,
   "metadata": {},
   "outputs": [
    {
     "data": {
      "text/plain": [
       "{0: '\\\\alpha + \\\\beta',\n",
       " 1: '\\\\frac { 1 } { 2 }',\n",
       " 2: '\\\\frac { \\\\alpha } { \\\\beta }',\n",
       " 3: '1 + 2',\n",
       " 4: '\\\\alpha + \\\\beta',\n",
       " 5: '\\\\frac { 1 } { 2 }',\n",
       " 6: '\\\\frac { \\\\alpha } { \\\\beta }',\n",
       " 7: '1 + 2',\n",
       " 8: '\\\\alpha + \\\\beta',\n",
       " 9: '\\\\frac { 1 } { 2 }'}"
      ]
     },
     "execution_count": 13,
     "metadata": {},
     "output_type": "execute_result"
    }
   ],
   "source": [
    "train_set._formulas"
   ]
  },
  {
   "cell_type": "code",
   "execution_count": 14,
   "metadata": {},
   "outputs": [],
   "source": [
    "encoder = CNN_Encoder(config.attn_cell_config['dim_embeddings'])"
   ]
  },
  {
   "cell_type": "code",
   "execution_count": 33,
   "metadata": {},
   "outputs": [],
   "source": [
    "decoder = Decoder(config.attn_cell_config['dim_embeddings'], config.attn_cell_config['num_units'], len(vocab.id_to_tok), vocab.id_end)\n"
   ]
  },
  {
   "cell_type": "code",
   "execution_count": 34,
   "metadata": {},
   "outputs": [],
   "source": [
    "optimizer = tf.keras.optimizers.Adam()\n",
    "loss_object = tf.keras.losses.SparseCategoricalCrossentropy(from_logits=True, reduction='none')\n",
    "\n",
    "def loss_function(real, pred):\n",
    "    mask = tf.math.logical_not(tf.math.equal(real, 0))\n",
    "    loss_ = loss_object(real, pred)\n",
    "    \n",
    "    mask = tf.cast(mask, dtype=loss_.dtype)\n",
    "    loss_ *= mask\n",
    "    \n",
    "    return tf.reduce_mean(loss_)"
   ]
  },
  {
   "cell_type": "code",
   "execution_count": null,
   "metadata": {},
   "outputs": [],
   "source": []
  }
 ],
 "metadata": {
  "kernelspec": {
   "display_name": "Python 3",
   "language": "python",
   "name": "python3"
  },
  "language_info": {
   "codemirror_mode": {
    "name": "ipython",
    "version": 3
   },
   "file_extension": ".py",
   "mimetype": "text/x-python",
   "name": "python",
   "nbconvert_exporter": "python",
   "pygments_lexer": "ipython3",
   "version": "3.8.5"
  }
 },
 "nbformat": 4,
 "nbformat_minor": 4
}
