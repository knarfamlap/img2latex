{
 "cells": [
  {
   "cell_type": "code",
   "execution_count": 1,
   "metadata": {},
   "outputs": [],
   "source": [
    "import tensorflow as tf\n",
    "import tensorflow_addons as tfa\n",
    "import numpy as np\n",
    "import time\n",
    "import pathlib\n",
    "import os\n",
    "import matplotlib.pyplot as plt\n",
    "\n",
    "from PIL import Image\n",
    "from model.decoder import Decoder\n",
    "from model.encoder import CNN_Encoder\n",
    "from model.attention import BahdanauAttention\n",
    "from model.decoder import embedding_initializer\n",
    "from components.positional import add_timing_signal_nd\n",
    "from sklearn.model_selection import train_test_split"
   ]
  },
  {
   "cell_type": "markdown",
   "metadata": {},
   "source": [
    "## Dataset"
   ]
  },
  {
   "cell_type": "code",
   "execution_count": null,
   "metadata": {},
   "outputs": [],
   "source": [
    "images_test = pathlib.Path(\"data/images_test\")\n",
    "images_train = pathlib.Path(\"data/images_train\")\n",
    "images_val = pathlib.Path(\"data/images_val\")"
   ]
  },
  {
   "cell_type": "code",
   "execution_count": null,
   "metadata": {},
   "outputs": [],
   "source": [
    "test_formulas = open(\"data/test.formulas.norm.txt\").read().split('\\n')\n",
    "train_formulas = open(\"data/train.formulas.norm.txt\").read().split('\\n')\n",
    "val_formulas = open(\"data/val.fomulas.norm.txt\").read().split('\\n')"
   ]
  },
  {
   "cell_type": "code",
   "execution_count": null,
   "metadata": {},
   "outputs": [],
   "source": [
    "for i in range(len(test_formulas)):\n",
    "    test_formulas[i] = \"<start> \" + test_formulas[i] + \" <end>\n",
    "    \n",
    "for i in range(len(train_formlas)):\n",
    "    train_formulas[i] = \"<start> \" + train_formulas[i] + \" <end>\" \n",
    "    \n",
    "for i in range(len(val_formulas)):\n",
    "    val_formulas[i] = \"<start> \" + val_formulas[i] + \" <end>\"\n",
    "    "
   ]
  },
  {
   "cell_type": "code",
   "execution_count": 2,
   "metadata": {},
   "outputs": [],
   "source": [
    "data_dir = pathlib.Path(\"data/images_test\")"
   ]
  },
  {
   "cell_type": "code",
   "execution_count": 3,
   "metadata": {},
   "outputs": [],
   "source": [
    "imgs = list(data_dir.glob(\"*.png\"))"
   ]
  },
  {
   "cell_type": "code",
   "execution_count": 4,
   "metadata": {},
   "outputs": [],
   "source": [
    "imgs_paths = []\n",
    "for img in imgs:\n",
    "    imgs_paths.append(os.fspath(img))"
   ]
  },
  {
   "cell_type": "code",
   "execution_count": 5,
   "metadata": {},
   "outputs": [],
   "source": [
    "imgs_paths = sorted(set(imgs_paths))"
   ]
  },
  {
   "cell_type": "code",
   "execution_count": 6,
   "metadata": {},
   "outputs": [],
   "source": [
    "lines = open(\"data/small.formulas.norm.txt\", 'r').read().split('\\n')"
   ]
  },
  {
   "cell_type": "code",
   "execution_count": 7,
   "metadata": {},
   "outputs": [],
   "source": [
    "for i in range(len(lines)):\n",
    "    lines[i] = \"<start> \" + lines[i] + \" <end>\" "
   ]
  },
  {
   "cell_type": "markdown",
   "metadata": {},
   "source": [
    "## Tokenize"
   ]
  },
  {
   "cell_type": "code",
   "execution_count": 8,
   "metadata": {},
   "outputs": [],
   "source": [
    "def calc_max_length(tensor):\n",
    "    return max(len(t) for t in tensor)"
   ]
  },
  {
   "cell_type": "code",
   "execution_count": 9,
   "metadata": {},
   "outputs": [],
   "source": [
    "top_k = 400\n",
    "\n",
    "tokenizer = tf.keras.preprocessing.text.Tokenizer(num_words=top_k, oov_token=\"<unk>\", filters='')\n",
    "tokenizer.fit_on_texts(lines)\n",
    "train_seqs = tokenizer.texts_to_sequences(lines)"
   ]
  },
  {
   "cell_type": "code",
   "execution_count": 10,
   "metadata": {},
   "outputs": [],
   "source": [
    "tokenizer.word_index['<pad>'] = 0\n",
    "tokenizer.index_word[0] = '<pad>'"
   ]
  },
  {
   "cell_type": "code",
   "execution_count": 11,
   "metadata": {},
   "outputs": [],
   "source": [
    "cap_vector = tf.keras.preprocessing.sequence.pad_sequences(train_seqs, padding='post')"
   ]
  },
  {
   "cell_type": "code",
   "execution_count": 12,
   "metadata": {},
   "outputs": [],
   "source": [
    "max_length = calc_max_length(train_seqs)"
   ]
  },
  {
   "cell_type": "markdown",
   "metadata": {},
   "source": [
    "## Split Dataset"
   ]
  },
  {
   "cell_type": "code",
   "execution_count": 13,
   "metadata": {},
   "outputs": [],
   "source": [
    "embedding_dim = 80\n",
    "BATCH_SIZE = 2\n",
    "units = 512\n",
    "vocab_size = top_k + 1\n",
    "attention_features_shape = 64"
   ]
  },
  {
   "cell_type": "code",
   "execution_count": 14,
   "metadata": {},
   "outputs": [],
   "source": [
    "def load_image(image_path, formula):\n",
    "    img = tf.io.read_file(image_path)\n",
    "    img = tf.image.decode_png(img)\n",
    "    return img, formula"
   ]
  },
  {
   "cell_type": "code",
   "execution_count": 15,
   "metadata": {},
   "outputs": [],
   "source": [
    "def load_image_only(image_path):\n",
    "    img = tf.io.read_file(image_path)\n",
    "    img = tf.image.decode_png(img, channels=3)\n",
    "    img = img / 255\n",
    "    return img "
   ]
  },
  {
   "cell_type": "code",
   "execution_count": 16,
   "metadata": {},
   "outputs": [],
   "source": [
    "# Create training and validation sets using an 80-20 split\n",
    "img_name_train, img_name_val, cap_train, cap_val = train_test_split(imgs_paths,\n",
    "                                                                    cap_vector,\n",
    "                                                                    test_size=0.2,\n",
    "                                                                    random_state=0)"
   ]
  },
  {
   "cell_type": "code",
   "execution_count": 17,
   "metadata": {},
   "outputs": [],
   "source": [
    "dataset = tf.data.Dataset.from_tensor_slices((img_name_train, cap_train))"
   ]
  },
  {
   "cell_type": "code",
   "execution_count": 18,
   "metadata": {},
   "outputs": [],
   "source": [
    "dataset = dataset.map(load_image, num_parallel_calls=tf.data.experimental.AUTOTUNE)"
   ]
  },
  {
   "cell_type": "code",
   "execution_count": 19,
   "metadata": {},
   "outputs": [],
   "source": [
    "dataset = dataset.shuffle(1000).batch(BATCH_SIZE)"
   ]
  },
  {
   "cell_type": "code",
   "execution_count": 20,
   "metadata": {},
   "outputs": [],
   "source": [
    "num_steps = len(img_name_train)"
   ]
  },
  {
   "cell_type": "markdown",
   "metadata": {},
   "source": [
    "## Init Encoder Decoder"
   ]
  },
  {
   "cell_type": "code",
   "execution_count": 21,
   "metadata": {},
   "outputs": [],
   "source": [
    "encoder = CNN_Encoder(embedding_dim)"
   ]
  },
  {
   "cell_type": "code",
   "execution_count": 22,
   "metadata": {},
   "outputs": [],
   "source": [
    "decoder = Decoder(embedding_dim, 512, vocab_size=top_k+1,)"
   ]
  },
  {
   "cell_type": "markdown",
   "metadata": {},
   "source": [
    "## Loss"
   ]
  },
  {
   "cell_type": "code",
   "execution_count": 23,
   "metadata": {},
   "outputs": [],
   "source": [
    "loss_plot = []"
   ]
  },
  {
   "cell_type": "code",
   "execution_count": 24,
   "metadata": {},
   "outputs": [],
   "source": [
    "optimizer = tf.keras.optimizers.Adam()\n",
    "loss_object = tf.keras.losses.SparseCategoricalCrossentropy(from_logits=True, reduction='none')\n",
    "\n",
    "def loss_function(real, pred):\n",
    "    mask = tf.math.logical_not(tf.math.equal(real, 0))\n",
    "    loss_ = loss_object(real, pred)\n",
    "    \n",
    "    mask = tf.cast(mask, dtype=loss_.dtype)\n",
    "    loss_ *= mask\n",
    "    \n",
    "    return tf.reduce_mean(loss_)"
   ]
  },
  {
   "cell_type": "markdown",
   "metadata": {},
   "source": [
    "## Training"
   ]
  },
  {
   "cell_type": "code",
   "execution_count": 25,
   "metadata": {},
   "outputs": [],
   "source": [
    "@tf.function\n",
    "def train_step(img, target):\n",
    "    loss = 0\n",
    "    img = img / 255\n",
    "    hidden = decoder.reset_state(batch_size=target.shape[0])\n",
    "    \n",
    "    dec_input = tf.expand_dims([tokenizer.word_index['<start>']] * target.shape[0], 1)\n",
    "    \n",
    "    with tf.GradientTape() as tape:\n",
    "        features = encoder(img)\n",
    "        \n",
    "        for i in range(1, target.shape[1]):\n",
    "            predictions, hidden, _ = decoder(dec_input, features, hidden)\n",
    "            \n",
    "            loss += loss_function(target[:, i], predictions)\n",
    "            \n",
    "            dec_input = tf.expand_dims(target[:, i], 1)\n",
    "            \n",
    "        total_loss = (loss / int(target.shape[1]))\n",
    "        \n",
    "        trainable_variables = encoder.trainable_variables + decoder.trainable_variables\n",
    "        \n",
    "        gradients = tape.gradient(loss, trainable_variables)\n",
    "        \n",
    "        optimizer.apply_gradients(zip(gradients, trainable_variables))\n",
    "        \n",
    "        return loss, total_loss\n",
    "    "
   ]
  },
  {
   "cell_type": "markdown",
   "metadata": {},
   "source": [
    "## Checkpoints"
   ]
  },
  {
   "cell_type": "code",
   "execution_count": 26,
   "metadata": {},
   "outputs": [],
   "source": [
    "checkpoint_path = \"./checkpoints/train\"\n",
    "ckpt = tf.train.Checkpoint(encoder=encoder, decoder=decoder, optimizer=optimizer)\n",
    "ckpt_manager = tf.train.CheckpointManager(ckpt, checkpoint_path, max_to_keep=5)"
   ]
  },
  {
   "cell_type": "code",
   "execution_count": 27,
   "metadata": {},
   "outputs": [],
   "source": [
    "start_epoch = 0\n",
    "\n",
    "if ckpt_manager.latest_checkpoint:\n",
    "    start_epoch = int(ckpt_manager.latest_checkpoint.split('-')[-1])\n",
    "    # restore to latest cehckpoint\n",
    "    ckpt.restore(ckpt_manager.latest_checkpoint)"
   ]
  },
  {
   "cell_type": "code",
   "execution_count": 37,
   "metadata": {},
   "outputs": [
    {
     "name": "stdout",
     "output_type": "stream",
     "text": [
      "Epoch 8 Batch 0 Loss 1.0851\n",
      "Epoch 8 Loss 0.729972\n",
      "Time taken for 1 epoch 0.26508069038391113 sec\n",
      "\n",
      "Epoch 9 Batch 0 Loss 1.4762\n",
      "Epoch 9 Loss 0.734448\n",
      "Time taken for 1 epoch 0.24963092803955078 sec\n",
      "\n",
      "Epoch 10 Batch 0 Loss 1.4514\n",
      "Epoch 10 Loss 0.733394\n",
      "Time taken for 1 epoch 0.2555880546569824 sec\n",
      "\n",
      "Epoch 11 Batch 0 Loss 0.9867\n",
      "Epoch 11 Loss 0.724228\n",
      "Time taken for 1 epoch 0.5438358783721924 sec\n",
      "\n",
      "Epoch 12 Batch 0 Loss 1.0485\n",
      "Epoch 12 Loss 0.716227\n",
      "Time taken for 1 epoch 0.2555210590362549 sec\n",
      "\n",
      "Epoch 13 Batch 0 Loss 1.2828\n",
      "Epoch 13 Loss 0.740918\n",
      "Time taken for 1 epoch 0.2597310543060303 sec\n",
      "\n",
      "Epoch 14 Batch 0 Loss 1.7611\n",
      "Epoch 14 Loss 0.735759\n",
      "Time taken for 1 epoch 0.2511148452758789 sec\n",
      "\n",
      "Epoch 15 Batch 0 Loss 1.9258\n",
      "Epoch 15 Loss 0.759139\n",
      "Time taken for 1 epoch 0.2526688575744629 sec\n",
      "\n",
      "Epoch 16 Batch 0 Loss 1.4398\n",
      "Epoch 16 Loss 0.726064\n",
      "Time taken for 1 epoch 0.5296640396118164 sec\n",
      "\n",
      "Epoch 17 Batch 0 Loss 1.3876\n",
      "Epoch 17 Loss 0.734201\n",
      "Time taken for 1 epoch 0.25580310821533203 sec\n",
      "\n",
      "Epoch 18 Batch 0 Loss 1.4643\n",
      "Epoch 18 Loss 0.716784\n",
      "Time taken for 1 epoch 0.2648000717163086 sec\n",
      "\n",
      "Epoch 19 Batch 0 Loss 1.8129\n",
      "Epoch 19 Loss 0.731987\n",
      "Time taken for 1 epoch 0.2696549892425537 sec\n",
      "\n",
      "Epoch 20 Batch 0 Loss 1.0532\n",
      "Epoch 20 Loss 0.766901\n",
      "Time taken for 1 epoch 0.258342981338501 sec\n",
      "\n",
      "Epoch 21 Batch 0 Loss 1.4823\n",
      "Epoch 21 Loss 0.741373\n",
      "Time taken for 1 epoch 0.566795825958252 sec\n",
      "\n",
      "Epoch 22 Batch 0 Loss 1.4663\n",
      "Epoch 22 Loss 0.732260\n",
      "Time taken for 1 epoch 0.2592151165008545 sec\n",
      "\n",
      "Epoch 23 Batch 0 Loss 1.8164\n",
      "Epoch 23 Loss 0.718215\n",
      "Time taken for 1 epoch 0.27189087867736816 sec\n",
      "\n",
      "Epoch 24 Batch 0 Loss 1.4561\n",
      "Epoch 24 Loss 0.722017\n",
      "Time taken for 1 epoch 0.2640700340270996 sec\n",
      "\n",
      "Epoch 25 Batch 0 Loss 1.8830\n",
      "Epoch 25 Loss 0.730732\n",
      "Time taken for 1 epoch 0.26547884941101074 sec\n",
      "\n",
      "Epoch 26 Batch 0 Loss 1.8352\n",
      "Epoch 26 Loss 0.728900\n",
      "Time taken for 1 epoch 0.5494048595428467 sec\n",
      "\n",
      "Epoch 27 Batch 0 Loss 1.3655\n",
      "Epoch 27 Loss 0.725189\n",
      "Time taken for 1 epoch 0.26349306106567383 sec\n",
      "\n",
      "Epoch 28 Batch 0 Loss 1.1277\n",
      "Epoch 28 Loss 0.745082\n",
      "Time taken for 1 epoch 0.2864212989807129 sec\n",
      "\n",
      "Epoch 29 Batch 0 Loss 1.8770\n",
      "Epoch 29 Loss 0.739861\n",
      "Time taken for 1 epoch 0.28070688247680664 sec\n",
      "\n",
      "Epoch 30 Batch 0 Loss 1.2372\n",
      "Epoch 30 Loss 0.733828\n",
      "Time taken for 1 epoch 0.26373720169067383 sec\n",
      "\n",
      "Epoch 31 Batch 0 Loss 1.3942\n",
      "Epoch 31 Loss 0.719300\n",
      "Time taken for 1 epoch 0.5589208602905273 sec\n",
      "\n",
      "Epoch 32 Batch 0 Loss 1.4409\n",
      "Epoch 32 Loss 0.718530\n",
      "Time taken for 1 epoch 0.2709629535675049 sec\n",
      "\n",
      "Epoch 33 Batch 0 Loss 1.8363\n",
      "Epoch 33 Loss 0.718759\n",
      "Time taken for 1 epoch 0.27253079414367676 sec\n",
      "\n",
      "Epoch 34 Batch 0 Loss 1.4466\n",
      "Epoch 34 Loss 0.723747\n",
      "Time taken for 1 epoch 0.2794618606567383 sec\n",
      "\n",
      "Epoch 35 Batch 0 Loss 1.3907\n",
      "Epoch 35 Loss 0.720142\n",
      "Time taken for 1 epoch 0.2619960308074951 sec\n",
      "\n"
     ]
    }
   ],
   "source": [
    "EPOCHS = 35\n",
    "\n",
    "for epoch in range(start_epoch, EPOCHS):\n",
    "    start = time.time()\n",
    "    total_loss = 0\n",
    "    \n",
    "    for (batch, (img, target)) in enumerate(dataset):\n",
    "        batch_loss, t_loss = train_step(img, target)\n",
    "        total_loss += t_loss\n",
    "    \n",
    "        if batch % 100 == 0:\n",
    "            print ('Epoch {} Batch {} Loss {:.4f}'.format(\n",
    "                  epoch + 1, batch, batch_loss.numpy() / int(target.shape[1])))\n",
    "        \n",
    "    loss_plot.append(total_loss / num_steps)\n",
    "    \n",
    "    if epoch % 5 == 0:\n",
    "        ckpt_manager.save()\n",
    "        \n",
    "    print ('Epoch {} Loss {:.6f}'.format(epoch + 1,\n",
    "                                         total_loss/num_steps))\n",
    "    print ('Time taken for 1 epoch {} sec\\n'.format(time.time() - start))\n"
   ]
  },
  {
   "cell_type": "code",
   "execution_count": 38,
   "metadata": {},
   "outputs": [
    {
     "data": {
      "image/png": "[encoded data removed]",
      "text/plain": [
       "<Figure size 432x288 with 1 Axes>"
      ]
     },
     "metadata": {
      "needs_background": "light"
     },
     "output_type": "display_data"
    }
   ],
   "source": [
    "plt.plot(loss_plot)\n",
    "plt.xlabel('Epochs')\n",
    "plt.ylabel('Loss')\n",
    "plt.title('Loss Plot')\n",
    "plt.show()"
   ]
  },
  {
   "cell_type": "code",
   "execution_count": 40,
   "metadata": {},
   "outputs": [],
   "source": [
    "def evaluate(image):\n",
    "    attention_plot = np.zeros((max_length, attention_features_shape))\n",
    "    hidden = decoder.reset_state(batch_size=1)\n",
    "        \n",
    "    img = tf.expand_dims(load_image_only(image), 0) \n",
    "    \n",
    "    features = encoder(img)\n",
    "    \n",
    "    dec_input = tf.expand_dims([tokenizer.word_index['<start>']], 0)\n",
    "    result = []\n",
    "    \n",
    "    for i in range(max_length):\n",
    "        predictions, hidden, attention_weights = decoder(dec_input, features, hidden)\n",
    "        \n",
    "        attention_plot[i] = tf.reshape(attention_weights, (-1, )).numpy()\n",
    "        \n",
    "        predicted_id = tf.random.categorical(predictions, 1)[0][0].numpy()\n",
    "        result.append(tokenizer.index_word[predicted_id])\n",
    "        \n",
    "        if tokenizer.index_word[predicted_id] == '<end>':\n",
    "            return result, attention_plot\n",
    "        \n",
    "        dec_input = tf.expand_dims([predicted_id], 0)\n",
    "        \n",
    "    \n",
    "    attention_plot = attention_plot[:len(result), :]\n",
    "    \n",
    "    return result, attention_plot\n",
    "    \n",
    "    "
   ]
  },
  {
   "cell_type": "code",
   "execution_count": 45,
   "metadata": {},
   "outputs": [
    {
     "name": "stdout",
     "output_type": "stream",
     "text": [
      "Real Formula: <start> \\frac { \\alpha } { \\beta } <end>\n",
      "Prediction Formula: \\beta { 1 { <end>\n"
     ]
    }
   ],
   "source": [
    "# captions on the validation set\n",
    "rid = np.random.randint(0, len(img_name_val))\n",
    "image = img_name_val[rid]\n",
    "real_caption = ' '.join([tokenizer.index_word[i] for i in cap_val[rid] if i not in [0]])\n",
    "result, attention_plot = evaluate(image)\n",
    "\n",
    "print ('Real Formula:', real_caption)\n",
    "print ('Prediction Formula:', ' '.join(result))"
   ]
  },
  {
   "cell_type": "code",
   "execution_count": null,
   "metadata": {},
   "outputs": [],
   "source": []
  }
 ],
 "metadata": {
  "kernelspec": {
   "display_name": "Python 3",
   "language": "python",
   "name": "python3"
  },
  "language_info": {
   "codemirror_mode": {
    "name": "ipython",
    "version": 3
   },
   "file_extension": ".py",
   "mimetype": "text/x-python",
   "name": "python",
   "nbconvert_exporter": "python",
   "pygments_lexer": "ipython3",
   "version": "3.8.5"
  }
 },
 "nbformat": 4,
 "nbformat_minor": 4
}
