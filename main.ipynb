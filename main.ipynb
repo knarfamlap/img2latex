{
 "cells": [
  {
   "cell_type": "code",
   "execution_count": 1,
   "metadata": {},
   "outputs": [
    {
     "name": "stderr",
     "output_type": "stream",
     "text": [
      "WARNING:root:Limited tf.compat.v2.summary API due to missing TensorBoard installation.\n"
     ]
    }
   ],
   "source": [
    "import tensorflow as tf\n",
    "import numpy as np\n",
    "import pandas as pd"
   ]
  },
  {
   "cell_type": "code",
   "execution_count": 4,
   "metadata": {},
   "outputs": [],
   "source": [
    "# batch of imgs, shape = (batch size, height, width, 1). Input of graph\n",
    "img = tf.placeholder(tf.uint8, shape=(None, None, None, 1), name='img') \n",
    "# batch of formulas, shape = (batch size, length of formula)\n",
    "formula = tf.placeholder(tf.int32, shape=(None, None), name='formula')\n",
    "formula_length = tf.placeholder(tf.int32, shape=(None, ), name='formula_length')"
   ]
  },
  {
   "cell_type": "code",
   "execution_count": 9,
   "metadata": {},
   "outputs": [],
   "source": [
    "# cast image back to float32 on GPU\n",
    "img = tf.cast(img, tf.float32) / 255.\n",
    "\n",
    "out = tf.keras.layers.Conv2D(64, 3, padding=\"same\", activation='relu')(img)\n",
    "out = tf.keras.layers.MaxPool2D(padding=\"same\")(out)\n",
    "\n",
    "out = tf.keras.layers.Conv2D(128, 3, padding=\"same\", activation='relu')(out)\n",
    "out = tf.keras.layers.MaxPool2D(padding=\"same\")(out)\n",
    "\n",
    "out = tf.keras.layers.Conv2D(256, 3,padding=\"same\", activation='relu')(out)\n",
    "\n",
    "out = tf.keras.layers.Conv2D(256, 3, padding=\"same\", activation='relu')(out)\n",
    "out = tf.keras.layers.MaxPool2D(pool_size=(2, 1), strides=(2, 1), padding=\"same\")(out)\n",
    "\n",
    "out = tf.keras.layers.Conv2D(512, 3, padding=\"same\", activation='relu')(out)\n",
    "out = tf.keras.layers.MaxPool2D(pool_size=(1, 2), strides=(1, 2), padding=\"same\")(out)\n",
    "#encoder representation, (batch size, height, width, 512)\n",
    "out = tf.keras.layers.Conv2D(512, 3, activation='relu')(out)"
   ]
  },
  {
   "cell_type": "code",
   "execution_count": 22,
   "metadata": {},
   "outputs": [],
   "source": [
    "H, W = tf.shape(out)[0], tf.shape(out)[1]"
   ]
  },
  {
   "cell_type": "code",
   "execution_count": 23,
   "metadata": {},
   "outputs": [],
   "source": [
    "seq = tf.reshape(out, shape=[-1, H*W, 512])"
   ]
  },
  {
   "cell_type": "code",
   "execution_count": null,
   "metadata": {},
   "outputs": [],
   "source": []
  }
 ],
 "metadata": {
  "kernelspec": {
   "display_name": "Python 3",
   "language": "python",
   "name": "python3"
  },
  "language_info": {
   "codemirror_mode": {
    "name": "ipython",
    "version": 3
   },
   "file_extension": ".py",
   "mimetype": "text/x-python",
   "name": "python",
   "nbconvert_exporter": "python",
   "pygments_lexer": "ipython3",
   "version": "3.7.6"
  }
 },
 "nbformat": 4,
 "nbformat_minor": 4
}
