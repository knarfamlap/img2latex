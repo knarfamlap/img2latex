{
 "cells": [
  {
   "cell_type": "code",
   "execution_count": 1,
   "metadata": {},
   "outputs": [],
   "source": [
    "import torch\n",
    "import torch.nn as nn\n",
    "import torch.nn.functional as F\n",
    "\n",
    "from model.encoder import CNNEncoder"
   ]
  },
  {
   "cell_type": "markdown",
   "metadata": {},
   "source": [
    "# Get Data"
   ]
  },
  {
   "cell_type": "code",
   "execution_count": 5,
   "metadata": {},
   "outputs": [],
   "source": [
    "imgs_train_path = \"/home/knarfamlap/Projects/img2latex/data/images_train\"\n",
    "formulas_train_path = \"/home/knarfamlap/Projects/img2latex/data/train.formulas.norm.txt\"\n",
    "\n",
    "imgs_test_path = \"/home/knarfamlap/Projects/img2latex/data/images_test\"\n",
    "formulas_test_path = \"/home/knarfamlap/Projects/img2latex/data/test.formulas.norm.txt\"\n",
    "\n",
    "imgs_val_path = \"/home/knarfamlap/Projects/img2latex/data/images_val\"\n",
    "formulas_val_path = \"/home/knarfamlap/Projects/img2latex/data/val.formulas.norm.txt\""
   ]
  },
  {
   "cell_type": "code",
   "execution_count": 7,
   "metadata": {},
   "outputs": [],
   "source": [
    "from model.dataset_generator import DatasetGenerator\n",
    "import matplotlib.pyplot as plt"
   ]
  },
  {
   "cell_type": "code",
   "execution_count": 8,
   "metadata": {},
   "outputs": [],
   "source": [
    "train_set = DatasetGenerator(formulas_file=formulas_val_path, root_dir=imgs_val_path)"
   ]
  },
  {
   "cell_type": "code",
   "execution_count": null,
   "metadata": {},
   "outputs": [],
   "source": []
  }
 ],
 "metadata": {
  "kernelspec": {
   "display_name": "Python 3",
   "language": "python",
   "name": "python3"
  },
  "language_info": {
   "codemirror_mode": {
    "name": "ipython",
    "version": 3
   },
   "file_extension": ".py",
   "mimetype": "text/x-python",
   "name": "python",
   "nbconvert_exporter": "python",
   "pygments_lexer": "ipython3",
   "version": "3.8.6"
  }
 },
 "nbformat": 4,
 "nbformat_minor": 4
}
